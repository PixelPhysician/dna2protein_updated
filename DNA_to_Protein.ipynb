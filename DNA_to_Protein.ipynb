{
  "nbformat": 4,
  "nbformat_minor": 0,
  "metadata": {
    "colab": {
      "provenance": []
    },
    "kernelspec": {
      "name": "python3",
      "display_name": "Python 3"
    },
    "language_info": {
      "name": "python"
    }
  },
  "cells": [
    {
      "cell_type": "code",
      "source": [
        "!pip install biopython"
      ],
      "metadata": {
        "colab": {
          "base_uri": "https://localhost:8080/"
        },
        "id": "VPHWsyYv7yUi",
        "outputId": "01e0d75c-f7c3-4b70-b0dc-203c3a7e49e6"
      },
      "execution_count": 1,
      "outputs": [
        {
          "output_type": "stream",
          "name": "stdout",
          "text": [
            "Collecting biopython\n",
            "  Downloading biopython-1.85-cp311-cp311-manylinux_2_17_x86_64.manylinux2014_x86_64.whl.metadata (13 kB)\n",
            "Requirement already satisfied: numpy in /usr/local/lib/python3.11/dist-packages (from biopython) (2.0.2)\n",
            "Downloading biopython-1.85-cp311-cp311-manylinux_2_17_x86_64.manylinux2014_x86_64.whl (3.3 MB)\n",
            "\u001b[2K   \u001b[90m━━━━━━━━━━━━━━━━━━━━━━━━━━━━━━━━━━━━━━━━\u001b[0m \u001b[32m3.3/3.3 MB\u001b[0m \u001b[31m23.6 MB/s\u001b[0m eta \u001b[36m0:00:00\u001b[0m\n",
            "\u001b[?25hInstalling collected packages: biopython\n",
            "Successfully installed biopython-1.85\n"
          ]
        }
      ]
    },
    {
      "cell_type": "code",
      "source": [
        "from Bio.Seq import Seq\n",
        "import random"
      ],
      "metadata": {
        "id": "8cpSfJqE7a4d"
      },
      "execution_count": 2,
      "outputs": []
    },
    {
      "cell_type": "code",
      "source": [
        "# Utility class with static methods\n",
        "class SequenceUtils:\n",
        "    @staticmethod\n",
        "    def transcribe_dna_to_rna(dna):\n",
        "        return dna.transcribe()\n",
        "\n",
        "    @staticmethod\n",
        "    def translate_rna_to_protein(rna):\n",
        "        return rna.translate()"
      ],
      "metadata": {
        "id": "lVSjihh27csz"
      },
      "execution_count": 3,
      "outputs": []
    },
    {
      "cell_type": "code",
      "source": [
        "# Singleton Storage Class\n",
        "class SequenceStorage:\n",
        "    _instance = None\n",
        "\n",
        "    def __new__(cls):\n",
        "        if cls._instance is None:\n",
        "            cls._instance = super(SequenceStorage, cls).__new__(cls)\n",
        "            cls._instance.data = {}\n",
        "        return cls._instance\n",
        "\n",
        "    def save(self, name, seq):\n",
        "        self.data[name] = seq\n",
        "\n",
        "    def read(self, name):\n",
        "        return self.data.get(name)\n"
      ],
      "metadata": {
        "id": "Vzu-fOfw7eaN"
      },
      "execution_count": 4,
      "outputs": []
    },
    {
      "cell_type": "code",
      "source": [
        "# Sequence Generator Abstract Base Class\n",
        "class SequenceGenerator:\n",
        "    def create_sequence(self, length):\n",
        "        raise NotImplementedError(\"Subclasses must implement create_sequence\")\n"
      ],
      "metadata": {
        "id": "RHR74i3J8JZF"
      },
      "execution_count": 5,
      "outputs": []
    },
    {
      "cell_type": "code",
      "source": [
        "class DNASequenceGenerator(SequenceGenerator):\n",
        "    alphabet = ['A', 'C', 'G', 'T']\n",
        "\n",
        "    def create_sequence(self, length):\n",
        "        return ''.join(random.choices(DNASequenceGenerator.alphabet, k=length))\n",
        "\n",
        "class ProteinSequenceGenerator(SequenceGenerator):\n",
        "    alphabet = ['A', 'R', 'N', 'D', 'C', 'E', 'Q', 'G', 'H', 'I',\n",
        "                'L', 'K', 'M', 'F', 'P', 'S', 'T', 'W', 'Y', 'V']\n",
        "\n",
        "    def create_sequence(self, length):\n",
        "        return ''.join(random.choices(ProteinSequenceGenerator.alphabet, k=length))\n"
      ],
      "metadata": {
        "id": "AIv6eym-7h8V"
      },
      "execution_count": 6,
      "outputs": []
    },
    {
      "cell_type": "code",
      "source": [
        "class SequenceFactory:\n",
        "    def __init__(self, sequence_type):\n",
        "        self.sequence_type = sequence_type.lower()\n",
        "\n",
        "    def create_sequence(self, length):\n",
        "        if self.sequence_type == 'dna':\n",
        "            return DNASequenceGenerator().create_sequence(length)\n",
        "        elif self.sequence_type == 'protein':\n",
        "            return ProteinSequenceGenerator().create_sequence(length)\n",
        "        else:\n",
        "            raise ValueError(f\"Unknown sequence type: {self.sequence_type}\")\n"
      ],
      "metadata": {
        "id": "HDcm4aN-7jQ-"
      },
      "execution_count": 7,
      "outputs": []
    },
    {
      "cell_type": "code",
      "source": [
        "# Classes for handling DNA and Protein objects\n",
        "class DNASequence:\n",
        "    def __init__(self, sequence):\n",
        "        self.sequence = sequence\n",
        "\n",
        "    def to_protein(self):\n",
        "        rna = SequenceUtils.transcribe_dna_to_rna(Seq(self.sequence))\n",
        "        return SequenceUtils.translate_rna_to_protein(rna)\n",
        "\n",
        "class ProteinSequence:\n",
        "    def __init__(self, sequence):\n",
        "        self.sequence = sequence\n",
        "\n",
        "    def get_sequence(self):\n",
        "        return self.sequence"
      ],
      "metadata": {
        "id": "lpjFTlTb7k9B"
      },
      "execution_count": 8,
      "outputs": []
    },
    {
      "cell_type": "code",
      "execution_count": 9,
      "metadata": {
        "colab": {
          "base_uri": "https://localhost:8080/"
        },
        "id": "-Bh04bNd7Y-U",
        "outputId": "5789607b-ce4d-48e3-f91f-ba1d9789b850"
      },
      "outputs": [
        {
          "output_type": "stream",
          "name": "stdout",
          "text": [
            "Original DNA:    GTGGCCATTGTAATGGGCCGCTGAAAGGGTGCCCGATAG\n",
            "Transcribed RNA: GUGGCCAUUGUAAUGGGCCGCUGAAAGGGUGCCCGAUAG\n",
            "Protein:         VAIVMGR*KGAR*\n",
            "Retrieved DNA:      GTGGCCATTGTAATGGGCCGCTGAAAGGGTGCCCGATAG\n",
            "Retrieved Protein:  VAIVMGR*KGAR*\n",
            "Random DNA:         ATAAGTTTTGGCTTCCAACATGGCTTTCATAGGCGT\n",
            "Random Protein:     RMMTVNSMEPYCWYIDWKLK\n",
            "Translated Random DNA to Protein: ISFGFQHGFHRR\n",
            "Stored Protein (obj): RMMTVNSMEPYCWYIDWKLK\n"
          ]
        }
      ],
      "source": [
        "# Start with a known DNA sequence\n",
        "example_dna = 'GTGGCCATTGTAATGGGCCGCTGAAAGGGTGCCCGATAG'\n",
        "dna_seq = Seq(example_dna)\n",
        "\n",
        "rna_seq = SequenceUtils.transcribe_dna_to_rna(dna_seq)\n",
        "protein_seq = SequenceUtils.translate_rna_to_protein(rna_seq)\n",
        "\n",
        "print(\"Original DNA:   \", dna_seq)\n",
        "print(\"Transcribed RNA:\", rna_seq)\n",
        "print(\"Protein:        \", protein_seq)\n",
        "\n",
        "# Store values using singleton\n",
        "storage = SequenceStorage()\n",
        "storage.save(\"my_dna\", dna_seq)\n",
        "storage.save(\"my_protein\", protein_seq)\n",
        "\n",
        "print(\"Retrieved DNA:     \", storage.read(\"my_dna\"))\n",
        "print(\"Retrieved Protein: \", storage.read(\"my_protein\"))\n",
        "\n",
        "# Generate random DNA and Protein sequences\n",
        "dna_factory = SequenceFactory('dna')\n",
        "random_dna = dna_factory.create_sequence(36)\n",
        "print(\"Random DNA:        \", random_dna)\n",
        "storage.save(\"rand_dna\", random_dna)\n",
        "\n",
        "protein_factory = SequenceFactory('protein')\n",
        "random_protein = protein_factory.create_sequence(20)\n",
        "print(\"Random Protein:    \", random_protein)\n",
        "storage.save(\"rand_protein\", random_protein)\n",
        "\n",
        "# Use DNA object class to convert and access\n",
        "dna_obj = DNASequence(random_dna)\n",
        "print(\"Translated Random DNA to Protein:\", dna_obj.to_protein())\n",
        "\n",
        "# Use Protein object class to retrieve\n",
        "protein_obj = ProteinSequence(random_protein)\n",
        "print(\"Stored Protein (obj):\", protein_obj.get_sequence())\n"
      ]
    }
  ]
}